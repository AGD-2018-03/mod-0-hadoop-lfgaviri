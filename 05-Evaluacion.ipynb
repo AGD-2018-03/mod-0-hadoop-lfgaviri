{
 "cells": [
  {
   "cell_type": "markdown",
   "metadata": {},
   "source": [
    "**Recuerde no agregar o quitar celdas en este notebook, ni modificar su tipo. Si lo hace, el sistema automaticamente lo calificará con cero punto cero (0.0)**"
   ]
  },
  {
   "cell_type": "markdown",
   "metadata": {},
   "source": [
    "Obtenga la cantidad de registros por letra para el siguiente archivo."
   ]
  },
  {
   "cell_type": "code",
   "execution_count": 1,
   "metadata": {},
   "outputs": [
    {
     "name": "stdout",
     "output_type": "stream",
     "text": [
      "Writing input.txt\n"
     ]
    }
   ],
   "source": [
    "%%writefile input.txt\n",
    "B   1999-08-28   14\n",
    "E   1999-12-06   12\n",
    "E   1993-07-21   17\n",
    "C   1991-02-12   13\n",
    "E   1995-04-25   16\n",
    "A   1992-08-22   14\n",
    "B   1999-06-11   12\n",
    "E   1993-01-27   13\n",
    "E   1999-09-10   11\n",
    "E   1990-05-03   16\n",
    "E   1994-02-14   10\n",
    "A   1988-04-27   12\n",
    "A   1990-10-06   10\n",
    "E   1985-02-12   16\n",
    "E   1998-09-14   16\n",
    "B   1994-08-30   17\n",
    "A   1997-12-15   13\n",
    "B   1995-08-23   10\n",
    "B   1998-11-22   13\n",
    "B   1997-04-09   14\n",
    "E   1993-12-27   18\n",
    "E   1999-01-14   15\n",
    "A   1992-09-19   18\n",
    "B   1993-03-02   14\n",
    "B   1999-10-21   13\n",
    "A   1990-08-31   12\n",
    "C   1994-01-25   10\n",
    "E   1990-02-09   18\n",
    "A   1990-09-26   14\n",
    "A   1993-05-08   16\n",
    "B   1995-09-06   14\n",
    "E   1991-02-18   14\n",
    "A   1993-01-11   14\n",
    "A   1990-07-22   18\n",
    "C   1994-09-09   15\n",
    "C   1994-07-27   10\n",
    "D   1990-10-10   15\n",
    "A   1990-09-05   11\n",
    "B   1991-10-01   15\n",
    "A   1994-10-25   13"
   ]
  },
  {
   "cell_type": "markdown",
   "metadata": {},
   "source": [
    "## Mapper"
   ]
  },
  {
   "cell_type": "code",
   "execution_count": 2,
   "metadata": {},
   "outputs": [
    {
     "name": "stdout",
     "output_type": "stream",
     "text": [
      "Writing mapper.py\n"
     ]
    }
   ],
   "source": [
    "%%writefile mapper.py\n",
    "#! /usr/bin/env python\n",
    "\n",
    "import sys\n",
    "if __name__ == \"__main__\":\n",
    "    for line in sys.stdin:\n",
    "        for word in line.split()[0:1]:\n",
    "            sys.stdout.write(\"{}\\t1\\n\".format(word))\n",
    "##  >>> Write your answer here <<<\n",
    "    pass"
   ]
  },
  {
   "cell_type": "markdown",
   "metadata": {},
   "source": [
    "## Reducer"
   ]
  },
  {
   "cell_type": "code",
   "execution_count": 3,
   "metadata": {},
   "outputs": [
    {
     "name": "stdout",
     "output_type": "stream",
     "text": [
      "Writing reducer.py\n"
     ]
    }
   ],
   "source": [
    "%%writefile reducer.py\n",
    "#!/usr/bin/env python\n",
    "\n",
    "import sys\n",
    "if __name__ == '__main__':\n",
    "    curkey = None\n",
    "    total = 0\n",
    "    for line in sys.stdin:\n",
    "        key, val = line.split(\"\\t\")\n",
    "        val = int(val)\n",
    "        if key == curkey: \n",
    "            total += val  \n",
    "        else:\n",
    "            if curkey is not None:\n",
    "                sys.stdout.write(\"{}\\t{}\\n\".format(curkey, total)) \n",
    "            curkey = key\n",
    "            total = val        \n",
    "    sys.stdout.write(\"{}\\t{}\\n\".format(curkey, total))\n",
    "##  >>> Write your answer here <<<\n",
    "    pass"
   ]
  },
  {
   "cell_type": "markdown",
   "metadata": {},
   "source": [
    "## Ejecución"
   ]
  },
  {
   "cell_type": "code",
   "execution_count": 4,
   "metadata": {},
   "outputs": [
    {
     "name": "stdout",
     "output_type": "stream",
     "text": [
      "A\t12\n",
      "B\t10\n",
      "C\t4\n",
      "D\t1\n",
      "E\t13\n"
     ]
    },
    {
     "name": "stderr",
     "output_type": "stream",
     "text": [
      "2018-10-27 14:56:39,367 WARN util.NativeCodeLoader: Unable to load native-hadoop library for your platform... using builtin-java classes where applicable\n",
      "2018-10-27 14:56:41,673 INFO impl.MetricsConfig: loaded properties from hadoop-metrics2.properties\n",
      "2018-10-27 14:56:42,102 INFO impl.MetricsSystemImpl: Scheduled Metric snapshot period at 10 second(s).\n",
      "2018-10-27 14:56:42,102 INFO impl.MetricsSystemImpl: JobTracker metrics system started\n",
      "2018-10-27 14:56:42,190 WARN impl.MetricsSystemImpl: JobTracker metrics system already initialized!\n",
      "2018-10-27 14:56:43,355 INFO mapred.FileInputFormat: Total input files to process : 1\n",
      "2018-10-27 14:56:43,496 INFO mapreduce.JobSubmitter: number of splits:1\n",
      "2018-10-27 14:56:44,188 INFO mapreduce.JobSubmitter: Submitting tokens for job: job_local1740963553_0001\n",
      "2018-10-27 14:56:44,189 INFO mapreduce.JobSubmitter: Executing with tokens: []\n",
      "2018-10-27 14:56:44,474 INFO mapreduce.Job: The url to track the job: http://localhost:8080/\n",
      "2018-10-27 14:56:44,479 INFO mapred.LocalJobRunner: OutputCommitter set in config null\n",
      "2018-10-27 14:56:44,483 INFO mapreduce.Job: Running job: job_local1740963553_0001\n",
      "2018-10-27 14:56:44,486 INFO mapred.LocalJobRunner: OutputCommitter is org.apache.hadoop.mapred.FileOutputCommitter\n",
      "2018-10-27 14:56:44,501 INFO output.FileOutputCommitter: File Output Committer Algorithm version is 2\n",
      "2018-10-27 14:56:44,502 INFO output.FileOutputCommitter: FileOutputCommitter skip cleanup _temporary folders under output directory:false, ignore cleanup failures: false\n",
      "2018-10-27 14:56:44,619 INFO mapred.LocalJobRunner: Waiting for map tasks\n",
      "2018-10-27 14:56:44,632 INFO mapred.LocalJobRunner: Starting task: attempt_local1740963553_0001_m_000000_0\n",
      "2018-10-27 14:56:44,702 INFO output.FileOutputCommitter: File Output Committer Algorithm version is 2\n",
      "2018-10-27 14:56:44,702 INFO output.FileOutputCommitter: FileOutputCommitter skip cleanup _temporary folders under output directory:false, ignore cleanup failures: false\n",
      "2018-10-27 14:56:44,727 INFO util.ProcfsBasedProcessTree: ProcfsBasedProcessTree currently is supported only on Linux.\n",
      "2018-10-27 14:56:44,728 INFO mapred.Task:  Using ResourceCalculatorProcessTree : null\n",
      "2018-10-27 14:56:44,760 INFO mapred.MapTask: Processing split: file:/Users/luisafernandagaviriaardila/UNAL/MAP_REDUCE/mod-0-hadoop-lfgaviri-master/input.txt:0+799\n",
      "2018-10-27 14:56:44,785 INFO mapred.MapTask: numReduceTasks: 1\n",
      "2018-10-27 14:56:44,879 INFO mapred.MapTask: (EQUATOR) 0 kvi 26214396(104857584)\n",
      "2018-10-27 14:56:44,879 INFO mapred.MapTask: mapreduce.task.io.sort.mb: 100\n",
      "2018-10-27 14:56:44,879 INFO mapred.MapTask: soft limit at 83886080\n",
      "2018-10-27 14:56:44,879 INFO mapred.MapTask: bufstart = 0; bufvoid = 104857600\n",
      "2018-10-27 14:56:44,879 INFO mapred.MapTask: kvstart = 26214396; length = 6553600\n",
      "2018-10-27 14:56:44,886 INFO mapred.MapTask: Map output collector class = org.apache.hadoop.mapred.MapTask$MapOutputBuffer\n",
      "2018-10-27 14:56:44,902 INFO streaming.PipeMapRed: PipeMapRed exec [/Users/luisafernandagaviriaardila/UNAL/MAP_REDUCE/mod-0-hadoop-lfgaviri-master/./mapper.py]\n",
      "2018-10-27 14:56:44,907 INFO Configuration.deprecation: mapred.work.output.dir is deprecated. Instead, use mapreduce.task.output.dir\n",
      "2018-10-27 14:56:44,908 INFO Configuration.deprecation: map.input.start is deprecated. Instead, use mapreduce.map.input.start\n",
      "2018-10-27 14:56:44,908 INFO Configuration.deprecation: mapred.task.is.map is deprecated. Instead, use mapreduce.task.ismap\n",
      "2018-10-27 14:56:44,909 INFO Configuration.deprecation: mapred.task.id is deprecated. Instead, use mapreduce.task.attempt.id\n",
      "2018-10-27 14:56:44,909 INFO Configuration.deprecation: mapred.tip.id is deprecated. Instead, use mapreduce.task.id\n",
      "2018-10-27 14:56:44,909 INFO Configuration.deprecation: mapred.local.dir is deprecated. Instead, use mapreduce.cluster.local.dir\n",
      "2018-10-27 14:56:44,910 INFO Configuration.deprecation: map.input.file is deprecated. Instead, use mapreduce.map.input.file\n",
      "2018-10-27 14:56:44,910 INFO Configuration.deprecation: mapred.skip.on is deprecated. Instead, use mapreduce.job.skiprecords\n",
      "2018-10-27 14:56:44,910 INFO Configuration.deprecation: map.input.length is deprecated. Instead, use mapreduce.map.input.length\n",
      "2018-10-27 14:56:44,911 INFO Configuration.deprecation: mapred.job.id is deprecated. Instead, use mapreduce.job.id\n",
      "2018-10-27 14:56:44,911 INFO Configuration.deprecation: user.name is deprecated. Instead, use mapreduce.job.user.name\n",
      "2018-10-27 14:56:44,911 INFO Configuration.deprecation: mapred.task.partition is deprecated. Instead, use mapreduce.task.partition\n",
      "2018-10-27 14:56:44,934 INFO streaming.PipeMapRed: R/W/S=1/0/0 in:NA [rec/s] out:NA [rec/s]\n",
      "2018-10-27 14:56:44,935 INFO streaming.PipeMapRed: R/W/S=10/0/0 in:NA [rec/s] out:NA [rec/s]\n",
      "2018-10-27 14:56:44,982 INFO streaming.PipeMapRed: Records R/W=40/1\n",
      "2018-10-27 14:56:44,983 INFO streaming.PipeMapRed: MRErrorThread done\n",
      "2018-10-27 14:56:44,983 INFO streaming.PipeMapRed: mapRedFinished\n",
      "2018-10-27 14:56:44,988 INFO mapred.LocalJobRunner: \n",
      "2018-10-27 14:56:44,988 INFO mapred.MapTask: Starting flush of map output\n",
      "2018-10-27 14:56:44,988 INFO mapred.MapTask: Spilling map output\n",
      "2018-10-27 14:56:44,988 INFO mapred.MapTask: bufstart = 0; bufend = 160; bufvoid = 104857600\n",
      "2018-10-27 14:56:44,988 INFO mapred.MapTask: kvstart = 26214396(104857584); kvend = 26214240(104856960); length = 157/6553600\n",
      "2018-10-27 14:56:45,033 INFO mapred.MapTask: Finished spill 0\n",
      "2018-10-27 14:56:45,056 INFO mapred.Task: Task:attempt_local1740963553_0001_m_000000_0 is done. And is in the process of committing\n",
      "2018-10-27 14:56:45,061 INFO mapred.LocalJobRunner: Records R/W=40/1\n",
      "2018-10-27 14:56:45,061 INFO mapred.Task: Task 'attempt_local1740963553_0001_m_000000_0' done.\n",
      "2018-10-27 14:56:45,091 INFO mapred.Task: Final Counters for attempt_local1740963553_0001_m_000000_0: Counters: 17\n",
      "\tFile System Counters\n",
      "\t\tFILE: Number of bytes read=177311\n",
      "\t\tFILE: Number of bytes written=703220\n",
      "\t\tFILE: Number of read operations=0\n",
      "\t\tFILE: Number of large read operations=0\n",
      "\t\tFILE: Number of write operations=0\n",
      "\tMap-Reduce Framework\n",
      "\t\tMap input records=40\n",
      "\t\tMap output records=40\n",
      "\t\tMap output bytes=160\n",
      "\t\tMap output materialized bytes=246\n",
      "\t\tInput split bytes=145\n",
      "\t\tCombine input records=0\n",
      "\t\tSpilled Records=40\n",
      "\t\tFailed Shuffles=0\n",
      "\t\tMerged Map outputs=0\n",
      "\t\tGC time elapsed (ms)=0\n",
      "\t\tTotal committed heap usage (bytes)=204472320\n",
      "\tFile Input Format Counters \n",
      "\t\tBytes Read=799\n",
      "2018-10-27 14:56:45,091 INFO mapred.LocalJobRunner: Finishing task: attempt_local1740963553_0001_m_000000_0\n",
      "2018-10-27 14:56:45,094 INFO mapred.LocalJobRunner: map task executor complete.\n",
      "2018-10-27 14:56:45,100 INFO mapred.LocalJobRunner: Waiting for reduce tasks\n",
      "2018-10-27 14:56:45,101 INFO mapred.LocalJobRunner: Starting task: attempt_local1740963553_0001_r_000000_0\n",
      "2018-10-27 14:56:45,122 INFO output.FileOutputCommitter: File Output Committer Algorithm version is 2\n",
      "2018-10-27 14:56:45,122 INFO output.FileOutputCommitter: FileOutputCommitter skip cleanup _temporary folders under output directory:false, ignore cleanup failures: false\n",
      "2018-10-27 14:56:45,123 INFO util.ProcfsBasedProcessTree: ProcfsBasedProcessTree currently is supported only on Linux.\n",
      "2018-10-27 14:56:45,124 INFO mapred.Task:  Using ResourceCalculatorProcessTree : null\n",
      "2018-10-27 14:56:45,141 INFO mapred.ReduceTask: Using ShuffleConsumerPlugin: org.apache.hadoop.mapreduce.task.reduce.Shuffle@7ab08385\n",
      "2018-10-27 14:56:45,146 WARN impl.MetricsSystemImpl: JobTracker metrics system already initialized!\n",
      "2018-10-27 14:56:45,201 INFO reduce.MergeManagerImpl: MergerManager: memoryLimit=1336252800, maxSingleShuffleLimit=334063200, mergeThreshold=881926912, ioSortFactor=10, memToMemMergeOutputsThreshold=10\n",
      "2018-10-27 14:56:45,203 INFO reduce.EventFetcher: attempt_local1740963553_0001_r_000000_0 Thread started: EventFetcher for fetching Map Completion Events\n",
      "2018-10-27 14:56:45,236 INFO reduce.LocalFetcher: localfetcher#1 about to shuffle output of map attempt_local1740963553_0001_m_000000_0 decomp: 242 len: 246 to MEMORY\n",
      "2018-10-27 14:56:45,247 INFO reduce.InMemoryMapOutput: Read 242 bytes from map-output for attempt_local1740963553_0001_m_000000_0\n",
      "2018-10-27 14:56:45,249 INFO reduce.MergeManagerImpl: closeInMemoryFile -> map-output of size: 242, inMemoryMapOutputs.size() -> 1, commitMemory -> 0, usedMemory ->242\n",
      "2018-10-27 14:56:45,251 INFO reduce.EventFetcher: EventFetcher is interrupted.. Returning\n",
      "2018-10-27 14:56:45,252 INFO mapred.LocalJobRunner: 1 / 1 copied.\n",
      "2018-10-27 14:56:45,252 INFO reduce.MergeManagerImpl: finalMerge called with 1 in-memory map-outputs and 0 on-disk map-outputs\n",
      "2018-10-27 14:56:45,273 INFO mapred.Merger: Merging 1 sorted segments\n",
      "2018-10-27 14:56:45,274 INFO mapred.Merger: Down to the last merge-pass, with 1 segments left of total size: 238 bytes\n",
      "2018-10-27 14:56:45,283 INFO reduce.MergeManagerImpl: Merged 1 segments, 242 bytes to disk to satisfy reduce memory limit\n",
      "2018-10-27 14:56:45,283 INFO reduce.MergeManagerImpl: Merging 1 files, 246 bytes from disk\n",
      "2018-10-27 14:56:45,284 INFO reduce.MergeManagerImpl: Merging 0 segments, 0 bytes from memory into reduce\n",
      "2018-10-27 14:56:45,284 INFO mapred.Merger: Merging 1 sorted segments\n",
      "2018-10-27 14:56:45,285 INFO mapred.Merger: Down to the last merge-pass, with 1 segments left of total size: 238 bytes\n",
      "2018-10-27 14:56:45,286 INFO mapred.LocalJobRunner: 1 / 1 copied.\n",
      "2018-10-27 14:56:45,296 INFO streaming.PipeMapRed: PipeMapRed exec [/Users/luisafernandagaviriaardila/UNAL/MAP_REDUCE/mod-0-hadoop-lfgaviri-master/./reducer.py]\n",
      "2018-10-27 14:56:45,298 INFO Configuration.deprecation: mapred.job.tracker is deprecated. Instead, use mapreduce.jobtracker.address\n",
      "2018-10-27 14:56:45,298 INFO Configuration.deprecation: mapred.map.tasks is deprecated. Instead, use mapreduce.job.maps\n",
      "2018-10-27 14:56:45,342 INFO streaming.PipeMapRed: R/W/S=1/0/0 in:NA [rec/s] out:NA [rec/s]\n",
      "2018-10-27 14:56:45,343 INFO streaming.PipeMapRed: R/W/S=10/0/0 in:NA [rec/s] out:NA [rec/s]\n",
      "2018-10-27 14:56:45,364 INFO streaming.PipeMapRed: Records R/W=40/1\n",
      "2018-10-27 14:56:45,367 INFO streaming.PipeMapRed: MRErrorThread done\n",
      "2018-10-27 14:56:45,368 INFO streaming.PipeMapRed: mapRedFinished\n",
      "2018-10-27 14:56:45,369 INFO mapred.Task: Task:attempt_local1740963553_0001_r_000000_0 is done. And is in the process of committing\n",
      "2018-10-27 14:56:45,370 INFO mapred.LocalJobRunner: 1 / 1 copied.\n",
      "2018-10-27 14:56:45,370 INFO mapred.Task: Task attempt_local1740963553_0001_r_000000_0 is allowed to commit now\n",
      "2018-10-27 14:56:45,373 INFO output.FileOutputCommitter: Saved output of task 'attempt_local1740963553_0001_r_000000_0' to file:/Users/luisafernandagaviriaardila/UNAL/MAP_REDUCE/mod-0-hadoop-lfgaviri-master/output\n",
      "2018-10-27 14:56:45,374 INFO mapred.LocalJobRunner: Records R/W=40/1 > reduce\n",
      "2018-10-27 14:56:45,374 INFO mapred.Task: Task 'attempt_local1740963553_0001_r_000000_0' done.\n",
      "2018-10-27 14:56:45,375 INFO mapred.Task: Final Counters for attempt_local1740963553_0001_r_000000_0: Counters: 24\n",
      "\tFile System Counters\n",
      "\t\tFILE: Number of bytes read=177835\n",
      "\t\tFILE: Number of bytes written=703501\n",
      "\t\tFILE: Number of read operations=0\n",
      "\t\tFILE: Number of large read operations=0\n",
      "\t\tFILE: Number of write operations=0\n",
      "\tMap-Reduce Framework\n",
      "\t\tCombine input records=0\n",
      "\t\tCombine output records=0\n",
      "\t\tReduce input groups=5\n",
      "\t\tReduce shuffle bytes=246\n",
      "\t\tReduce input records=40\n",
      "\t\tReduce output records=5\n",
      "\t\tSpilled Records=40\n",
      "\t\tShuffled Maps =1\n",
      "\t\tFailed Shuffles=0\n",
      "\t\tMerged Map outputs=1\n",
      "\t\tGC time elapsed (ms)=9\n",
      "\t\tTotal committed heap usage (bytes)=209190912\n",
      "\tShuffle Errors\n",
      "\t\tBAD_ID=0\n",
      "\t\tCONNECTION=0\n",
      "\t\tIO_ERROR=0\n",
      "\t\tWRONG_LENGTH=0\n",
      "\t\tWRONG_MAP=0\n",
      "\t\tWRONG_REDUCE=0\n",
      "\tFile Output Format Counters \n",
      "\t\tBytes Written=35\n",
      "2018-10-27 14:56:45,376 INFO mapred.LocalJobRunner: Finishing task: attempt_local1740963553_0001_r_000000_0\n",
      "2018-10-27 14:56:45,376 INFO mapred.LocalJobRunner: reduce task executor complete.\n",
      "2018-10-27 14:56:45,510 INFO mapreduce.Job: Job job_local1740963553_0001 running in uber mode : false\n",
      "2018-10-27 14:56:45,517 INFO mapreduce.Job:  map 100% reduce 100%\n",
      "2018-10-27 14:56:45,519 INFO mapreduce.Job: Job job_local1740963553_0001 completed successfully\n",
      "2018-10-27 14:56:45,535 INFO mapreduce.Job: Counters: 30\n",
      "\tFile System Counters\n",
      "\t\tFILE: Number of bytes read=355146\n",
      "\t\tFILE: Number of bytes written=1406721\n",
      "\t\tFILE: Number of read operations=0\n",
      "\t\tFILE: Number of large read operations=0\n",
      "\t\tFILE: Number of write operations=0\n",
      "\tMap-Reduce Framework\n",
      "\t\tMap input records=40\n",
      "\t\tMap output records=40\n",
      "\t\tMap output bytes=160\n",
      "\t\tMap output materialized bytes=246\n",
      "\t\tInput split bytes=145\n",
      "\t\tCombine input records=0\n",
      "\t\tCombine output records=0\n",
      "\t\tReduce input groups=5\n",
      "\t\tReduce shuffle bytes=246\n",
      "\t\tReduce input records=40\n",
      "\t\tReduce output records=5\n",
      "\t\tSpilled Records=80\n",
      "\t\tShuffled Maps =1\n",
      "\t\tFailed Shuffles=0\n",
      "\t\tMerged Map outputs=1\n",
      "\t\tGC time elapsed (ms)=9\n",
      "\t\tTotal committed heap usage (bytes)=413663232\n",
      "\tShuffle Errors\n",
      "\t\tBAD_ID=0\n",
      "\t\tCONNECTION=0\n",
      "\t\tIO_ERROR=0\n",
      "\t\tWRONG_LENGTH=0\n",
      "\t\tWRONG_MAP=0\n",
      "\t\tWRONG_REDUCE=0\n",
      "\tFile Input Format Counters \n",
      "\t\tBytes Read=799\n",
      "\tFile Output Format Counters \n",
      "\t\tBytes Written=35\n",
      "2018-10-27 14:56:45,535 INFO streaming.StreamJob: Output directory: output\n"
     ]
    }
   ],
   "source": [
    "%%bash\n",
    "rm -rf output\n",
    "STREAM=$HADOOP_HOME/share/hadoop/tools/lib/hadoop-streaming-*.jar\n",
    "chmod +x mapper.py\n",
    "chmod +x reducer.py\n",
    "hadoop jar $STREAM -input input.txt -output output  -mapper mapper.py -reducer reducer.py\n",
    "cat output/part-00000"
   ]
  },
  {
   "cell_type": "code",
   "execution_count": 5,
   "metadata": {},
   "outputs": [],
   "source": [
    "!rm -rf mapper.py reducer.py output input.txt"
   ]
  },
  {
   "cell_type": "markdown",
   "metadata": {},
   "source": [
    "---"
   ]
  },
  {
   "cell_type": "markdown",
   "metadata": {},
   "source": [
    "Para realizar la evaluación automática de este libro:\n",
    "\n",
    "* Abra un Terminal.\n",
    "* Asegurece que esat en la misma carpeta que contiene este notebook.\n",
    "* Salve el notebook.\n",
    "* Ejecute el siguiente comando:\n",
    "\n",
    "      ./gradetool 05-Taller.ipynb"
   ]
  },
  {
   "cell_type": "markdown",
   "metadata": {},
   "source": [
    "---"
   ]
  }
 ],
 "metadata": {
  "kernelspec": {
   "display_name": "Python 3",
   "language": "python",
   "name": "python3"
  },
  "language_info": {
   "codemirror_mode": {
    "name": "ipython",
    "version": 3
   },
   "file_extension": ".py",
   "mimetype": "text/x-python",
   "name": "python",
   "nbconvert_exporter": "python",
   "pygments_lexer": "ipython3",
   "version": "3.6.5"
  },
  "toc": {
   "base_numbering": 1,
   "nav_menu": {},
   "number_sections": false,
   "sideBar": true,
   "skip_h1_title": true,
   "title_cell": "Table of Contents",
   "title_sidebar": "Contents",
   "toc_cell": false,
   "toc_position": {},
   "toc_section_display": true,
   "toc_window_display": true
  },
  "toc-autonumbering": false
 },
 "nbformat": 4,
 "nbformat_minor": 2
}
